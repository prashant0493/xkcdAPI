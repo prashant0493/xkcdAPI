{
 "cells": [
  {
   "cell_type": "code",
   "execution_count": 5,
   "metadata": {},
   "outputs": [],
   "source": [
    "import requests\n",
    "import json\n",
    "from collections import OrderedDict\n",
    "from typing import Dict, List\n",
    "from multiprocessing.pool import ThreadPool"
   ]
  },
  {
   "cell_type": "code",
   "execution_count": 6,
   "metadata": {},
   "outputs": [],
   "source": [
    "\"\"\"\n",
    "This module defines pydantic basemodel (provides Py3 data-classes validation out of the box)\n",
    "used for common fields and methods used across all the datamodels.\n",
    "\"\"\"\n",
    "\n",
    "from pydantic import BaseModel\n",
    "from pydantic.error_wrappers import ValidationError\n",
    "from datetime import datetime\n",
    "from typing import Optional\n",
    "\n",
    "\n",
    "class Base(BaseModel):\n",
    "\n",
    "    num: int\n",
    "\n",
    "\n",
    "class Comic(Base):\n",
    "    \"\"\" Pydantic model class to validate data for `Comic` object from xkcd API\"\"\"\n",
    "\n",
    "    # attribute fields\n",
    "    month: Optional[str] = \"\"\n",
    "    link: Optional[str] = \"\"\n",
    "    year: Optional[str] = \"\"\n",
    "    news: Optional[str] = \"\"\n",
    "    safe_title: Optional[str] = \"\"\n",
    "    transcript: Optional[str] = \"\"\n",
    "    alt: Optional[str] = \"\"\n",
    "    img: str\n",
    "    title: Optional[str] = \"\"\n",
    "    day: Optional[str] = \"\"\n",
    "\n",
    "    # relationship attribute fields\n",
    "    # [todo] add relationships if any\n",
    "\n",
    "\n",
    "      \n"
   ]
  },
  {
   "cell_type": "code",
   "execution_count": 7,
   "metadata": {},
   "outputs": [],
   "source": [
    "comic_set = [77, 60, 14, 22, 59, 48, 74, 52, 46, 55, 35, 37, 30, 19, 47]\n",
    "COMIC = \"http://xkcd.com/{}/info.0.json\"    "
   ]
  },
  {
   "cell_type": "code",
   "execution_count": 8,
   "metadata": {},
   "outputs": [],
   "source": [
    "def fetch_comic(comic_id) -> Dict:\n",
    "    \"\"\"fetches a comic per `comic_id`\n",
    "\n",
    "    Args:\n",
    "        comic_id (int): fetches comic id\n",
    "\n",
    "    Returns:\n",
    "        fetched_comic (dict): comic object as received from xkcd API.\n",
    "    \"\"\"\n",
    "\n",
    "    endpoint = COMIC.format(comic_id)\n",
    "    response = requests.get(endpoint)\n",
    "    response.raise_for_status()\n",
    "    print(f\"\\n-- data has been downloaded from ```{endpoint}``` -- {response.status_code}\")\n",
    "\n",
    "    fetched_comic = response.text\n",
    "    data = json.loads(fetched_comic, object_pairs_hook=OrderedDict)\n",
    "    try:\n",
    "        comic = Comic(**data)\n",
    "    except ValidationError as e:\n",
    "        print(f\"[ Error ] fetched comic record does not meet validations. Details  -\\n{e}\")\n",
    "\n",
    "    return data\n"
   ]
  },
  {
   "cell_type": "code",
   "execution_count": 9,
   "metadata": {},
   "outputs": [
    {
     "name": "stdout",
     "output_type": "stream",
     "text": [
      "\n",
      "-- data has been downloaded from ```http://xkcd.com/1/info.0.json``` -- 200\n"
     ]
    }
   ],
   "source": [
    "comic = fetch_comic(1)"
   ]
  },
  {
   "cell_type": "code",
   "execution_count": 10,
   "metadata": {},
   "outputs": [
    {
     "data": {
      "text/plain": [
       "OrderedDict([('month', '1'),\n",
       "             ('num', 1),\n",
       "             ('link', ''),\n",
       "             ('year', '2006'),\n",
       "             ('news', ''),\n",
       "             ('safe_title', 'Barrel - Part 1'),\n",
       "             ('transcript',\n",
       "              \"[[A boy sits in a barrel which is floating in an ocean.]]\\nBoy: I wonder where I'll float next?\\n[[The barrel drifts into the distance. Nothing else can be seen.]]\\n{{Alt: Don't we all.}}\"),\n",
       "             ('alt', \"Don't we all.\"),\n",
       "             ('img', 'https://imgs.xkcd.com/comics/barrel_cropped_(1).jpg'),\n",
       "             ('title', 'Barrel - Part 1'),\n",
       "             ('day', '1')])"
      ]
     },
     "execution_count": 10,
     "metadata": {},
     "output_type": "execute_result"
    }
   ],
   "source": [
    "comic"
   ]
  },
  {
   "cell_type": "code",
   "execution_count": 5,
   "metadata": {},
   "outputs": [
    {
     "name": "stdout",
     "output_type": "stream",
     "text": [
      "\n",
      "-- data has been downloaded from ```http://xkcd.com/22/info.0.json``` -- 200\n",
      "\n",
      "-- data has been downloaded from ```http://xkcd.com/77/info.0.json``` -- 200\n",
      "\n",
      "-- data has been downloaded from ```http://xkcd.com/59/info.0.json``` -- 200\n",
      "\n",
      "-- data has been downloaded from ```http://xkcd.com/14/info.0.json``` -- 200\n",
      "\n",
      "-- data has been downloaded from ```http://xkcd.com/60/info.0.json``` -- 200\n",
      "\n",
      "-- data has been downloaded from ```http://xkcd.com/55/info.0.json``` -- 200\n",
      "-- data has been downloaded from ```http://xkcd.com/46/info.0.json``` -- 200\n",
      "\n",
      "\n",
      "-- data has been downloaded from ```http://xkcd.com/37/info.0.json``` -- 200\n",
      "\n",
      "-- data has been downloaded from ```http://xkcd.com/48/info.0.json``` -- 200\n",
      "\n",
      "-- data has been downloaded from ```http://xkcd.com/52/info.0.json``` -- 200\n",
      "\n",
      "-- data has been downloaded from ```http://xkcd.com/74/info.0.json``` -- 200\n",
      "\n",
      "-- data has been downloaded from ```http://xkcd.com/30/info.0.json``` -- 200\n",
      "\n",
      "-- data has been downloaded from ```http://xkcd.com/35/info.0.json``` -- 200\n",
      "\n",
      "-- data has been downloaded from ```http://xkcd.com/19/info.0.json``` -- 200\n",
      "\n",
      "-- data has been downloaded from ```http://xkcd.com/47/info.0.json``` -- 200\n"
     ]
    }
   ],
   "source": [
    "# Thread-pool to resolve IO-intensive operation real quick.\n",
    "pool = ThreadPool(5)\n",
    "fetched_comic_list = pool.map(fetch_comic, comic_set)"
   ]
  },
  {
   "cell_type": "code",
   "execution_count": 6,
   "metadata": {},
   "outputs": [
    {
     "data": {
      "text/plain": [
       "[{'month': '3',\n",
       "  'num': 77,\n",
       "  'link': '',\n",
       "  'year': '2006',\n",
       "  'news': '',\n",
       "  'safe_title': 'Bored with the Internet',\n",
       "  'transcript': '[[Two men are talking in a room with a computer on. One is wearing a black hat.]]\\nFirst man: I feel like I\\'m wasting my life on the internet. Let\\'s walk around the world.\\nMan with the black hat: Sounds good.\\n[[The two men are shown walking through trees.]]\\n[[The two men are shown walking on flat stretch, with mountains in the distance.]]\\n[[The two men are shown in a magnificent canyon. They stand, silently looking at the scene.]]\\nFirst man: And yet all I can think is, \"This will make for a great LiveJournal entry.\"\\n{{title text: I used to do this all the time.}}',\n",
       "  'alt': 'I used to do this all the time.',\n",
       "  'img': 'https://imgs.xkcd.com/comics/bored_with_the_internet.jpg',\n",
       "  'title': 'Bored with the Internet',\n",
       "  'day': '17'},\n",
       " {'month': '2',\n",
       "  'num': 60,\n",
       "  'link': '',\n",
       "  'year': '2006',\n",
       "  'news': '',\n",
       "  'safe_title': 'Super Bowl',\n",
       "  'transcript': '[[A green car with the text next to it]]\\nMy hobby:\\nWhile everyone is watching\\nthe Super Bowl, feeling\\nsmugly superior because\\nthey\\'re \"Only watching for\\nthe ads,\" I steal cars.',\n",
       "  'alt': \"The Super Bowl is actually an elaborate ruse, concocted by a shadowy group in the mid sixties for this purpose.  The 'watch it for the ads' addition was a master stroke.\",\n",
       "  'img': 'https://imgs.xkcd.com/comics/super_bowl.jpg',\n",
       "  'title': 'Super Bowl',\n",
       "  'day': '6'},\n",
       " {'month': '1',\n",
       "  'num': 14,\n",
       "  'link': '',\n",
       "  'year': '2006',\n",
       "  'news': '',\n",
       "  'safe_title': 'Copyright',\n",
       "  'transcript': \"[[Colored drawing of a hilly grassy landscape, stick figure leaning against a tree.]]\\nMan: Sometimes I just can't get outraged over copyright law\\n{{Alt: After reading Slashdot and BoingBoing, sometimes I have to go outside.}}\",\n",
       "  'alt': 'After reading Slashdot and BoingBoing, sometimes I have to go outside.',\n",
       "  'img': 'https://imgs.xkcd.com/comics/copyright.jpg',\n",
       "  'title': 'Copyright',\n",
       "  'day': '1'},\n",
       " {'month': '1',\n",
       "  'num': 22,\n",
       "  'link': '',\n",
       "  'year': '2006',\n",
       "  'news': '',\n",
       "  'safe_title': 'Barrel - Part 3',\n",
       "  'transcript': '[[Large vortex, spinning water covers the whole panel. A boy in a floating barrel is near the edge, apparently about to be sucked in.]]\\nBoy: Wow!\\n{{alt text: A whirlpool!}}',\n",
       "  'alt': 'A whirlpool!',\n",
       "  'img': 'https://imgs.xkcd.com/comics/barrel_whirlpool.jpg',\n",
       "  'title': 'Barrel - Part 3',\n",
       "  'day': '1'},\n",
       " {'month': '2',\n",
       "  'num': 59,\n",
       "  'link': '',\n",
       "  'year': '2006',\n",
       "  'news': '',\n",
       "  'safe_title': 'Graduation',\n",
       "  'transcript': \"[[two girls are talking]]\\nblonde: What do you want to do when you graduate ?\\nbrunette: I want to become a lighthouse operator.\\nblonde: Oh ?\\nbrunette: Yeah.\\n[[cut to scene of lighthouse with text overlaid]]\\nbrunette: Lighthouses are built on interesting pieces of coast, so I'll have an interesting place to walk and swim, and great views of all kinds of weather.  I'd feel good about myself and my work every single day.\\n[[cut back to two girls]]\\nbrunette: I'd get to be the girl in the tower, only I'd be the one rescuing people.\\nbrunette: Why. What do you want to do ?\\nblonde: I'm going to grad school.  I don't really know why.\\nbrunette: Wanna come hang in my lighthouse over breaks ?\\nblonde: ...yeah.\\n{{title text: Opening dialogue by Scott}}\",\n",
       "  'alt': 'Opening dialogue by Scott',\n",
       "  'img': 'https://imgs.xkcd.com/comics/graduation.jpg',\n",
       "  'title': 'Graduation',\n",
       "  'day': '3'},\n",
       " {'month': '1',\n",
       "  'num': 48,\n",
       "  'link': '',\n",
       "  'year': '2006',\n",
       "  'news': '',\n",
       "  'safe_title': 'Found',\n",
       "  'transcript': '[[A male and female stick figure are standing on a white hill (presumably snow) with a grey sky covered with thick streaks of white, and small pink dots]]\\nwe are just two people \\nwho found each other\\n{{No more, no less}}',\n",
       "  'alt': 'No more, no less',\n",
       "  'img': 'https://imgs.xkcd.com/comics/found.jpg',\n",
       "  'title': 'Found',\n",
       "  'day': '12'},\n",
       " {'month': '3',\n",
       "  'num': 74,\n",
       "  'link': '',\n",
       "  'year': '2006',\n",
       "  'news': '',\n",
       "  'safe_title': 'Su Doku',\n",
       "  'transcript': \"[[A square divided into 2x2 squares, the top-right one has an 1 in it, the bottom-right one has a 0, the two left ones are empty]]\\n[[Label: Binary Su Doku]]\\n{{alt text: This one is from the Red Belt collection, of 'medium' difficulty.}}\",\n",
       "  'alt': \"This one is from the Red Belt collection, of 'medium' difficulty.\",\n",
       "  'img': 'https://imgs.xkcd.com/comics/su_doku.jpg',\n",
       "  'title': 'Su Doku',\n",
       "  'day': '10'},\n",
       " {'month': '1',\n",
       "  'num': 52,\n",
       "  'link': '',\n",
       "  'year': '2006',\n",
       "  'news': '',\n",
       "  'safe_title': 'Secret Worlds',\n",
       "  'transcript': '[[Pieces of a quote in circles with lines drawn in between them]]\\n[[Some of the circles are small and colored]]\\n\"Everybody has a secret world inside of them.\\nAll of the people in the whole world\\nI mean everybody\\nNo matter how dull and boring they are on the outside\\nInside they\\'ve all got unimaginable\\nmagnificent, wonderful, stupid, amazing, worlds\\nNot just one world. Hundreds of them. Thousands, maybe.\"\\n--Neil Gaiman\\nSandman',\n",
       "  'alt': 'No two adjacent circles are the same color.',\n",
       "  'img': 'https://imgs.xkcd.com/comics/secret_worlds.jpg',\n",
       "  'title': 'Secret Worlds',\n",
       "  'day': '21'},\n",
       " {'month': '1',\n",
       "  'num': 46,\n",
       "  'link': '',\n",
       "  'year': '2006',\n",
       "  'news': '',\n",
       "  'safe_title': 'Secrets',\n",
       "  'transcript': \"I just want you to share in my secrets\\n[[lonely looking girl staring down]]\\nand not run away\\n{{alt: I'm a big fan of Kurt Halsey}}\",\n",
       "  'alt': \"I'm a big fan of Kurt Halsey\",\n",
       "  'img': 'https://imgs.xkcd.com/comics/secrets.jpg',\n",
       "  'title': 'Secrets',\n",
       "  'day': '6'},\n",
       " {'month': '1',\n",
       "  'num': 55,\n",
       "  'link': '',\n",
       "  'year': '2006',\n",
       "  'news': '',\n",
       "  'safe_title': 'Useless',\n",
       "  'transcript': \"[[Different mathematic equations, all with heart on left side, and all equal question mark. Equations are as follows:\\nSquare root of heart equals question mark\\nCosinus of heart equals question mark\\nDerivative of heart with respect to x  equals question mark\\nIdentity matrix of heart equals question mark\\nFourier transform of heart equals question mark]]\\nMy normal approach is useless here\\n{{alt text: Even the identity matrix doesn't work normally}}\",\n",
       "  'alt': \"Even the identity matrix doesn't work normally\",\n",
       "  'img': 'https://imgs.xkcd.com/comics/useless.jpg',\n",
       "  'title': 'Useless',\n",
       "  'day': '27'},\n",
       " {'month': '1',\n",
       "  'num': 35,\n",
       "  'link': '',\n",
       "  'year': '2006',\n",
       "  'news': '',\n",
       "  'safe_title': 'Sheep',\n",
       "  'transcript': \"Heading: Another from my high-school notebooks.\\n[[A sheep and a potted saguaro cactus linked by an arcing yellow electricity bolt, drawn on graph paper]]\\n{{title text: I think it's the sheep zapping the cactus and not vice-versa}}\",\n",
       "  'alt': \"I think it's the sheep zapping the cactus and not vice-versa\",\n",
       "  'img': 'https://imgs.xkcd.com/comics/sheep.jpg',\n",
       "  'title': 'Sheep',\n",
       "  'day': '1'},\n",
       " {'month': '1',\n",
       "  'num': 37,\n",
       "  'link': '',\n",
       "  'year': '2006',\n",
       "  'news': '',\n",
       "  'safe_title': 'Hyphen',\n",
       "  'transcript': \"{{Headline: My hobby: whenever calls something an [adjective]-ass [noun], I mentally move the hyphen one word to the right.}}\\n[[One man is talking to another about a car that resembles a Volkswagen Beetle]]\\nMan: Man, that's a sweet ass-car.\\n{{Title text: I do this constantly}}\",\n",
       "  'alt': 'I do this constantly',\n",
       "  'img': 'https://imgs.xkcd.com/comics/hyphen.jpg',\n",
       "  'title': 'Hyphen',\n",
       "  'day': '1'},\n",
       " {'month': '1',\n",
       "  'num': 30,\n",
       "  'link': '',\n",
       "  'year': '2006',\n",
       "  'news': '',\n",
       "  'safe_title': 'Donner',\n",
       "  'transcript': '[[Three people stand in the foyer of a restaurant. A sign above the entryway reads \"JOE\\'S\" and there is a menu next to it. In front of the entryway, there\\'s a host behind a podium. A sign on the podium reads \"EAT IN\".]]\\nHost: Donner, party of four?\\nMan: Actually, never mind.\\nWoman: We\\'re full.\\n{{title text: Some people haven\\'t heard of the Donner Party.  They were pioneers who got stranded and likely resorted to cannibalism.}}',\n",
       "  'alt': \"Some people haven't heard of the Donner Party.  They were pioneers who got stranded and likely resorted to cannibalism.\",\n",
       "  'img': 'https://imgs.xkcd.com/comics/donner.jpg',\n",
       "  'title': 'Donner',\n",
       "  'day': '1'},\n",
       " {'month': '1',\n",
       "  'num': 19,\n",
       "  'link': '',\n",
       "  'year': '2006',\n",
       "  'news': '',\n",
       "  'safe_title': 'George Clinton',\n",
       "  'transcript': 'Narrator: I once tried to start the urban legend that George Clinton has a B.A. in mathematics\\n[[George Clinton indicates equations on a blackboard]]\\nNarrator: ...but I wanted it to be true so badly that I started believing it myself.\\n{{Title text: I still wish it were true.}}',\n",
       "  'alt': 'I still wish it were true.',\n",
       "  'img': 'https://imgs.xkcd.com/comics/george_clinton.jpg',\n",
       "  'title': 'George Clinton',\n",
       "  'day': '1'},\n",
       " {'month': '1',\n",
       "  'num': 47,\n",
       "  'link': '',\n",
       "  'year': '2006',\n",
       "  'news': '',\n",
       "  'safe_title': 'Counter-Red Spiders',\n",
       "  'transcript': '[[A stack of stick figures, standing on each others shoulders extends from the bottom of the frame to the top.  Cuboids hang in the air]]\\nThe counter-red-spider offensive begins ...\\n{{title text: I hope we can stop them}}',\n",
       "  'alt': 'I hope we can stop them',\n",
       "  'img': 'https://imgs.xkcd.com/comics/counter-red-spiders.jpg',\n",
       "  'title': 'Counter-Red Spiders',\n",
       "  'day': '9'}]"
      ]
     },
     "execution_count": 6,
     "metadata": {},
     "output_type": "execute_result"
    }
   ],
   "source": [
    "comics = fetched_comic_list\n",
    "comics"
   ]
  },
  {
   "cell_type": "code",
   "execution_count": 7,
   "metadata": {},
   "outputs": [
    {
     "data": {
      "text/plain": [
       "{'month': '3',\n",
       " 'num': 77,\n",
       " 'link': '',\n",
       " 'year': '2006',\n",
       " 'news': '',\n",
       " 'safe_title': 'Bored with the Internet',\n",
       " 'transcript': '[[Two men are talking in a room with a computer on. One is wearing a black hat.]]\\nFirst man: I feel like I\\'m wasting my life on the internet. Let\\'s walk around the world.\\nMan with the black hat: Sounds good.\\n[[The two men are shown walking through trees.]]\\n[[The two men are shown walking on flat stretch, with mountains in the distance.]]\\n[[The two men are shown in a magnificent canyon. They stand, silently looking at the scene.]]\\nFirst man: And yet all I can think is, \"This will make for a great LiveJournal entry.\"\\n{{title text: I used to do this all the time.}}',\n",
       " 'alt': 'I used to do this all the time.',\n",
       " 'img': 'https://imgs.xkcd.com/comics/bored_with_the_internet.jpg',\n",
       " 'title': 'Bored with the Internet',\n",
       " 'day': '17'}"
      ]
     },
     "execution_count": 7,
     "metadata": {},
     "output_type": "execute_result"
    }
   ],
   "source": [
    "comic_0 = comics[0]\n",
    "comic_0"
   ]
  },
  {
   "cell_type": "code",
   "execution_count": 3,
   "metadata": {},
   "outputs": [
    {
     "data": {
      "text/plain": [
       "OrderedDict([('name', 'prashant'), ('age', 28), ('profession', 'engineer')])"
      ]
     },
     "execution_count": 3,
     "metadata": {},
     "output_type": "execute_result"
    }
   ],
   "source": [
    "\n",
    "\n",
    "\n",
    "data"
   ]
  },
  {
   "cell_type": "code",
   "execution_count": 13,
   "metadata": {},
   "outputs": [
    {
     "name": "stdout",
     "output_type": "stream",
     "text": [
      "yes\n"
     ]
    }
   ],
   "source": [
    "sample = []\n",
    "\n",
    "if not sample:\n",
    "    print(\"yes\")"
   ]
  },
  {
   "cell_type": "code",
   "execution_count": 14,
   "metadata": {},
   "outputs": [
    {
     "name": "stdout",
     "output_type": "stream",
     "text": [
      "{'first_name': 'John', 'address': {'country': {'name': 'USA'}}, 'hobbies': [{'name': 'Programming', 'info': 'Writing code and stuff'}, {'name': 'Gaming'}]}\n",
      "{'first_name': 'John', 'second_name': 'Doe', 'address': {'post_code': 123456, 'country': {'name': 'USA', 'phone_code': 1}}, 'card_details': {'number': SecretStr('**********'), 'expires': datetime.date(2020, 5, 1)}, 'hobbies': [{'name': 'Programming'}, {'name': 'Gaming'}]}\n"
     ]
    },
    {
     "data": {
      "text/plain": [
       "\"\\n{\\n    'first_name': 'John',\\n    'second_name': 'Doe',\\n    'address': {\\n        'post_code': 123456,\\n        'country': {'name': 'USA', 'phone_code': 1},\\n    },\\n    'card_details': {\\n        'number': SecretStr('**********'),\\n        'expires': datetime.date(2020, 5, 1),\\n    },\\n    'hobbies': [{'name': 'Programming'}, {'name': 'Gaming'}],\\n}\\n\""
      ]
     },
     "execution_count": 14,
     "metadata": {},
     "output_type": "execute_result"
    }
   ],
   "source": [
    "import datetime\n",
    "from typing import List\n",
    "\n",
    "from pydantic import BaseModel, SecretStr\n",
    "\n",
    "\n",
    "class Country(BaseModel):\n",
    "    name: str\n",
    "    phone_code: int\n",
    "\n",
    "\n",
    "class Address(BaseModel):\n",
    "    post_code: int\n",
    "    country: Country\n",
    "\n",
    "\n",
    "class CardDetails(BaseModel):\n",
    "    number: SecretStr\n",
    "    expires: datetime.date\n",
    "\n",
    "\n",
    "class Hobby(BaseModel):\n",
    "    name: str\n",
    "    info: str\n",
    "\n",
    "\n",
    "class User(BaseModel):\n",
    "    first_name: str\n",
    "    second_name: str\n",
    "    address: Address\n",
    "    card_details: CardDetails\n",
    "    hobbies: List[Hobby]\n",
    "\n",
    "\n",
    "user = User(\n",
    "    first_name='John',\n",
    "    second_name='Doe',\n",
    "    address=Address(\n",
    "        post_code=123456,\n",
    "        country=Country(\n",
    "            name='USA',\n",
    "            phone_code=1\n",
    "        )\n",
    "    ),\n",
    "    card_details=CardDetails(\n",
    "        number=4212934504460000,\n",
    "        expires=datetime.date(2020, 5, 1)\n",
    "    ),\n",
    "    hobbies=[\n",
    "        Hobby(name='Programming', info='Writing code and stuff'),\n",
    "        Hobby(name='Gaming', info='Hell Yeah!!!'),\n",
    "    ],\n",
    ")\n",
    "\n",
    "\n",
    "\n",
    "include_keys = {\n",
    "    'first_name': ...,\n",
    "    'address': {'country': {'name'}},\n",
    "    'hobbies': {0: ..., -1: {'name'}},\n",
    "}\n",
    "\n",
    "# would be the same as user.dict(exclude=exclude_keys) in this case:\n",
    "print(user.dict(include=include_keys))\n",
    "\"\"\"\n",
    "{\n",
    "    'first_name': 'John',\n",
    "    'address': {'country': {'name': 'USA'}},\n",
    "    'hobbies': [\n",
    "        {\n",
    "            'name': 'Programming',\n",
    "            'info': 'Writing code and stuff',\n",
    "        },\n",
    "        {'name': 'Gaming'},\n",
    "    ],\n",
    "}\n",
    "\"\"\"\n",
    "\n",
    "# To exclude a field from all members of a nested list or tuple, use \"__all__\":\n",
    "print(user.dict(exclude={'hobbies': {'__all__': {'info'}}}))\n",
    "\"\"\"\n",
    "{\n",
    "    'first_name': 'John',\n",
    "    'second_name': 'Doe',\n",
    "    'address': {\n",
    "        'post_code': 123456,\n",
    "        'country': {'name': 'USA', 'phone_code': 1},\n",
    "    },\n",
    "    'card_details': {\n",
    "        'number': SecretStr('**********'),\n",
    "        'expires': datetime.date(2020, 5, 1),\n",
    "    },\n",
    "    'hobbies': [{'name': 'Programming'}, {'name': 'Gaming'}],\n",
    "}\n",
    "\"\"\""
   ]
  },
  {
   "cell_type": "code",
   "execution_count": 15,
   "metadata": {},
   "outputs": [
    {
     "data": {
      "text/plain": [
       "['https:', '', 'imgs.xkcd.com', 'comics', 'fuzzy_blob.png']"
      ]
     },
     "execution_count": 15,
     "metadata": {},
     "output_type": "execute_result"
    }
   ],
   "source": [
    "var = \"https://imgs.xkcd.com/comics/fuzzy_blob.png\"\n",
    "var.split(\"/\")"
   ]
  }
 ],
 "metadata": {
  "kernelspec": {
   "display_name": "Python 3",
   "language": "python",
   "name": "python3"
  },
  "language_info": {
   "codemirror_mode": {
    "name": "ipython",
    "version": 3
   },
   "file_extension": ".py",
   "mimetype": "text/x-python",
   "name": "python",
   "nbconvert_exporter": "python",
   "pygments_lexer": "ipython3",
   "version": "3.8.3"
  }
 },
 "nbformat": 4,
 "nbformat_minor": 4
}
